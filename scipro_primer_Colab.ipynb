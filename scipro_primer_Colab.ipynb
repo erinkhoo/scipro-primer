{
  "nbformat": 4,
  "nbformat_minor": 0,
  "metadata": {
    "colab": {
      "name": "scipro-primer-Colab.ipynb",
      "version": "0.3.2",
      "provenance": [],
      "collapsed_sections": [],
      "include_colab_link": true
    },
    "kernelspec": {
      "name": "python3",
      "display_name": "Python 3"
    }
  },
  "cells": [
    {
      "cell_type": "markdown",
      "metadata": {
        "id": "view-in-github",
        "colab_type": "text"
      },
      "source": [
        "<a href=\"https://colab.research.google.com/github/erinkhoo/scipro-primer/blob/colab-additions/scipro_primer_Colab.ipynb\" target=\"_parent\"><img src=\"https://colab.research.google.com/assets/colab-badge.svg\" alt=\"Open In Colab\"/></a>"
      ]
    },
    {
      "cell_type": "markdown",
      "metadata": {
        "id": "HCIx9TZq9UDL",
        "colab_type": "text"
      },
      "source": [
        "# scipro-primer Colab Examples\n",
        "\n",
        "*   Basic Maths examples\n",
        "*   Complex Graphing\n",
        "\n"
      ]
    },
    {
      "cell_type": "markdown",
      "metadata": {
        "id": "ngncAbO--O3S",
        "colab_type": "text"
      },
      "source": [
        "# Basic"
      ]
    },
    {
      "cell_type": "code",
      "metadata": {
        "id": "-a4hbbua-Z2Y",
        "colab_type": "code",
        "colab": {
          "base_uri": "https://localhost:8080/",
          "height": 34
        },
        "outputId": "a2e614f4-7fcb-4d2e-a050-024fd89cb559"
      },
      "source": [
        "                        # Exercise 1.0\n",
        "F = 69.8                # Fahrenhheit degrees\n",
        "C = (5.0/9)*(F - 32)    # Celcius degrees\n",
        "print(C)"
      ],
      "execution_count": 4,
      "outputs": [
        {
          "output_type": "stream",
          "text": [
            "21.0\n"
          ],
          "name": "stdout"
        }
      ]
    },
    {
      "cell_type": "code",
      "metadata": {
        "id": "LDI_z-98_Yct",
        "colab_type": "code",
        "colab": {}
      },
      "source": [
        ""
      ],
      "execution_count": 0,
      "outputs": []
    },
    {
      "cell_type": "markdown",
      "metadata": {
        "id": "BMVJ4FNX-R0B",
        "colab_type": "text"
      },
      "source": [
        "# Complex"
      ]
    },
    {
      "cell_type": "code",
      "metadata": {
        "id": "yKnL6AYX9TCt",
        "colab_type": "code",
        "colab": {}
      },
      "source": [
        ""
      ],
      "execution_count": 0,
      "outputs": []
    },
    {
      "cell_type": "code",
      "metadata": {
        "id": "HAbvuaTn-mZy",
        "colab_type": "code",
        "colab": {}
      },
      "source": [
        "# load an example dataset\n",
        "from vega_datasets import data\n",
        "cars = data.cars()\n",
        "\n",
        "# plot the dataset, referencing dataframe column names\n",
        "import altair as alt\n",
        "alt.Chart(cars).mark_bar().encode(\n",
        "  x='mean(Miles_per_Gallon)',\n",
        "  y='Origin',\n",
        "  color='Origin'\n",
        ")"
      ],
      "execution_count": 0,
      "outputs": []
    }
  ]
}